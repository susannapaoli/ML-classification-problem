{
 "cells": [
  {
   "cell_type": "markdown",
   "metadata": {},
   "source": [
    "## Machine Learning Project\n",
    "This dataset is composed of 1300 samples with 30 features each. The first column\n",
    "is the sample id. The second column in the dataset represents the label. There\n",
    "are 3 possible values for the labels. The remaining columns are numeric\n",
    "features."
   ]
  },
  {
   "cell_type": "code",
   "execution_count": 1,
   "metadata": {},
   "outputs": [],
   "source": [
    "## import all the necessary packages \n",
    "\n",
    "import numpy as np\n",
    "import pandas as pd\n",
    "import matplotlib.pyplot as plt \n",
    "%matplotlib inline\n",
    "import seaborn as sns\n",
    "\n",
    "from sklearn.model_selection import train_test_split, cross_val_score, GridSearchCV\n",
    "from sklearn.preprocessing import StandardScaler \n",
    "\n",
    "from sklearn.neighbors import KNeighborsClassifier \n",
    "from sklearn.linear_model import LogisticRegression\n",
    "from sklearn.ensemble import RandomForestClassifier\n",
    "\n",
    "from sklearn.pipeline import Pipeline\n",
    "from sklearn.metrics import confusion_matrix, mean_squared_error, accuracy_score"
   ]
  },
  {
   "cell_type": "code",
   "execution_count": 2,
   "metadata": {},
   "outputs": [],
   "source": [
    "mldata = pd.read_csv('mldata_0013139819.csv', index_col='Unnamed: 0')"
   ]
  },
  {
   "cell_type": "code",
   "execution_count": 3,
   "metadata": {},
   "outputs": [
    {
     "data": {
      "text/html": [
       "<div>\n",
       "<style scoped>\n",
       "    .dataframe tbody tr th:only-of-type {\n",
       "        vertical-align: middle;\n",
       "    }\n",
       "\n",
       "    .dataframe tbody tr th {\n",
       "        vertical-align: top;\n",
       "    }\n",
       "\n",
       "    .dataframe thead th {\n",
       "        text-align: right;\n",
       "    }\n",
       "</style>\n",
       "<table border=\"1\" class=\"dataframe\">\n",
       "  <thead>\n",
       "    <tr style=\"text-align: right;\">\n",
       "      <th></th>\n",
       "      <th>label</th>\n",
       "      <th>feature_1</th>\n",
       "      <th>feature_2</th>\n",
       "      <th>feature_3</th>\n",
       "      <th>feature_4</th>\n",
       "      <th>feature_5</th>\n",
       "      <th>feature_6</th>\n",
       "      <th>feature_7</th>\n",
       "      <th>feature_8</th>\n",
       "      <th>feature_9</th>\n",
       "      <th>...</th>\n",
       "      <th>feature_21</th>\n",
       "      <th>feature_22</th>\n",
       "      <th>feature_23</th>\n",
       "      <th>feature_24</th>\n",
       "      <th>feature_25</th>\n",
       "      <th>feature_26</th>\n",
       "      <th>feature_27</th>\n",
       "      <th>feature_28</th>\n",
       "      <th>feature_29</th>\n",
       "      <th>feature_30</th>\n",
       "    </tr>\n",
       "  </thead>\n",
       "  <tbody>\n",
       "    <tr>\n",
       "      <th>0</th>\n",
       "      <td>0</td>\n",
       "      <td>2.008984</td>\n",
       "      <td>3.456035</td>\n",
       "      <td>0.371041</td>\n",
       "      <td>-0.156366</td>\n",
       "      <td>0.748137</td>\n",
       "      <td>-0.464871</td>\n",
       "      <td>0.082561</td>\n",
       "      <td>-0.572463</td>\n",
       "      <td>-6.850930</td>\n",
       "      <td>...</td>\n",
       "      <td>0.257311</td>\n",
       "      <td>1.784734</td>\n",
       "      <td>-0.590668</td>\n",
       "      <td>-1.633107</td>\n",
       "      <td>-0.756231</td>\n",
       "      <td>0.284437</td>\n",
       "      <td>2.578003</td>\n",
       "      <td>2.698934</td>\n",
       "      <td>1.043408</td>\n",
       "      <td>-0.263972</td>\n",
       "    </tr>\n",
       "    <tr>\n",
       "      <th>1</th>\n",
       "      <td>0</td>\n",
       "      <td>2.652267</td>\n",
       "      <td>-9.789319</td>\n",
       "      <td>1.753505</td>\n",
       "      <td>2.492327</td>\n",
       "      <td>0.651594</td>\n",
       "      <td>0.880535</td>\n",
       "      <td>-3.585295</td>\n",
       "      <td>-1.373682</td>\n",
       "      <td>5.181839</td>\n",
       "      <td>...</td>\n",
       "      <td>1.107051</td>\n",
       "      <td>-0.831019</td>\n",
       "      <td>-2.876974</td>\n",
       "      <td>-6.251903</td>\n",
       "      <td>-0.384048</td>\n",
       "      <td>-1.359168</td>\n",
       "      <td>-4.704557</td>\n",
       "      <td>-0.134339</td>\n",
       "      <td>-0.303642</td>\n",
       "      <td>-1.612829</td>\n",
       "    </tr>\n",
       "    <tr>\n",
       "      <th>2</th>\n",
       "      <td>2</td>\n",
       "      <td>0.059345</td>\n",
       "      <td>-4.587814</td>\n",
       "      <td>0.848173</td>\n",
       "      <td>-3.155153</td>\n",
       "      <td>0.527941</td>\n",
       "      <td>0.716423</td>\n",
       "      <td>-1.838871</td>\n",
       "      <td>0.679738</td>\n",
       "      <td>-3.985467</td>\n",
       "      <td>...</td>\n",
       "      <td>-4.918122</td>\n",
       "      <td>-3.548772</td>\n",
       "      <td>-5.830112</td>\n",
       "      <td>1.171177</td>\n",
       "      <td>0.358194</td>\n",
       "      <td>-0.336375</td>\n",
       "      <td>-5.369520</td>\n",
       "      <td>-0.683634</td>\n",
       "      <td>0.787193</td>\n",
       "      <td>-0.918949</td>\n",
       "    </tr>\n",
       "    <tr>\n",
       "      <th>3</th>\n",
       "      <td>0</td>\n",
       "      <td>0.295317</td>\n",
       "      <td>1.563252</td>\n",
       "      <td>-1.043682</td>\n",
       "      <td>4.183121</td>\n",
       "      <td>0.195026</td>\n",
       "      <td>-1.659625</td>\n",
       "      <td>-2.572702</td>\n",
       "      <td>0.190461</td>\n",
       "      <td>1.469888</td>\n",
       "      <td>...</td>\n",
       "      <td>0.570407</td>\n",
       "      <td>-1.934935</td>\n",
       "      <td>0.866140</td>\n",
       "      <td>-10.606007</td>\n",
       "      <td>-0.332318</td>\n",
       "      <td>0.470586</td>\n",
       "      <td>1.586516</td>\n",
       "      <td>-1.031149</td>\n",
       "      <td>1.120413</td>\n",
       "      <td>1.101819</td>\n",
       "    </tr>\n",
       "    <tr>\n",
       "      <th>4</th>\n",
       "      <td>0</td>\n",
       "      <td>2.087935</td>\n",
       "      <td>2.468847</td>\n",
       "      <td>-0.159579</td>\n",
       "      <td>-1.840582</td>\n",
       "      <td>-0.364998</td>\n",
       "      <td>-0.142930</td>\n",
       "      <td>2.387398</td>\n",
       "      <td>0.499286</td>\n",
       "      <td>-5.968211</td>\n",
       "      <td>...</td>\n",
       "      <td>0.688875</td>\n",
       "      <td>-2.951077</td>\n",
       "      <td>-7.875574</td>\n",
       "      <td>-5.886807</td>\n",
       "      <td>1.343015</td>\n",
       "      <td>0.319536</td>\n",
       "      <td>-0.268716</td>\n",
       "      <td>1.794989</td>\n",
       "      <td>0.916029</td>\n",
       "      <td>0.995027</td>\n",
       "    </tr>\n",
       "  </tbody>\n",
       "</table>\n",
       "<p>5 rows × 31 columns</p>\n",
       "</div>"
      ],
      "text/plain": [
       "   label  feature_1  feature_2  feature_3  feature_4  feature_5  feature_6  \\\n",
       "0      0   2.008984   3.456035   0.371041  -0.156366   0.748137  -0.464871   \n",
       "1      0   2.652267  -9.789319   1.753505   2.492327   0.651594   0.880535   \n",
       "2      2   0.059345  -4.587814   0.848173  -3.155153   0.527941   0.716423   \n",
       "3      0   0.295317   1.563252  -1.043682   4.183121   0.195026  -1.659625   \n",
       "4      0   2.087935   2.468847  -0.159579  -1.840582  -0.364998  -0.142930   \n",
       "\n",
       "   feature_7  feature_8  feature_9  ...  feature_21  feature_22  feature_23  \\\n",
       "0   0.082561  -0.572463  -6.850930  ...    0.257311    1.784734   -0.590668   \n",
       "1  -3.585295  -1.373682   5.181839  ...    1.107051   -0.831019   -2.876974   \n",
       "2  -1.838871   0.679738  -3.985467  ...   -4.918122   -3.548772   -5.830112   \n",
       "3  -2.572702   0.190461   1.469888  ...    0.570407   -1.934935    0.866140   \n",
       "4   2.387398   0.499286  -5.968211  ...    0.688875   -2.951077   -7.875574   \n",
       "\n",
       "   feature_24  feature_25  feature_26  feature_27  feature_28  feature_29  \\\n",
       "0   -1.633107   -0.756231    0.284437    2.578003    2.698934    1.043408   \n",
       "1   -6.251903   -0.384048   -1.359168   -4.704557   -0.134339   -0.303642   \n",
       "2    1.171177    0.358194   -0.336375   -5.369520   -0.683634    0.787193   \n",
       "3  -10.606007   -0.332318    0.470586    1.586516   -1.031149    1.120413   \n",
       "4   -5.886807    1.343015    0.319536   -0.268716    1.794989    0.916029   \n",
       "\n",
       "   feature_30  \n",
       "0   -0.263972  \n",
       "1   -1.612829  \n",
       "2   -0.918949  \n",
       "3    1.101819  \n",
       "4    0.995027  \n",
       "\n",
       "[5 rows x 31 columns]"
      ]
     },
     "execution_count": 3,
     "metadata": {},
     "output_type": "execute_result"
    }
   ],
   "source": [
    "mldata.head()"
   ]
  },
  {
   "cell_type": "markdown",
   "metadata": {},
   "source": [
    "### Exploring the data \n",
    "In the following section, I have analyzed basic features of the data (missing values, etc...). Subsequently, I have evaluated the correlation matrix to get insights of the correlation levels between features. \n",
    "The dataset does not contain either categorical features or missing values."
   ]
  },
  {
   "cell_type": "code",
   "execution_count": 4,
   "metadata": {},
   "outputs": [
    {
     "data": {
      "text/plain": [
       "label         0\n",
       "feature_1     0\n",
       "feature_2     0\n",
       "feature_3     0\n",
       "feature_4     0\n",
       "feature_5     0\n",
       "feature_6     0\n",
       "feature_7     0\n",
       "feature_8     0\n",
       "feature_9     0\n",
       "feature_10    0\n",
       "feature_11    0\n",
       "feature_12    0\n",
       "feature_13    0\n",
       "feature_14    0\n",
       "feature_15    0\n",
       "feature_16    0\n",
       "feature_17    0\n",
       "feature_18    0\n",
       "feature_19    0\n",
       "feature_20    0\n",
       "feature_21    0\n",
       "feature_22    0\n",
       "feature_23    0\n",
       "feature_24    0\n",
       "feature_25    0\n",
       "feature_26    0\n",
       "feature_27    0\n",
       "feature_28    0\n",
       "feature_29    0\n",
       "feature_30    0\n",
       "dtype: int64"
      ]
     },
     "execution_count": 4,
     "metadata": {},
     "output_type": "execute_result"
    }
   ],
   "source": [
    "mldata.isnull().sum()"
   ]
  },
  {
   "cell_type": "code",
   "execution_count": 5,
   "metadata": {},
   "outputs": [
    {
     "name": "stdout",
     "output_type": "stream",
     "text": [
      "(1300, 31)\n",
      "label           int64\n",
      "feature_1     float64\n",
      "feature_2     float64\n",
      "feature_3     float64\n",
      "feature_4     float64\n",
      "feature_5     float64\n",
      "feature_6     float64\n",
      "feature_7     float64\n",
      "feature_8     float64\n",
      "feature_9     float64\n",
      "feature_10    float64\n",
      "feature_11    float64\n",
      "feature_12    float64\n",
      "feature_13    float64\n",
      "feature_14    float64\n",
      "feature_15    float64\n",
      "feature_16    float64\n",
      "feature_17    float64\n",
      "feature_18    float64\n",
      "feature_19    float64\n",
      "feature_20    float64\n",
      "feature_21    float64\n",
      "feature_22    float64\n",
      "feature_23    float64\n",
      "feature_24    float64\n",
      "feature_25    float64\n",
      "feature_26    float64\n",
      "feature_27    float64\n",
      "feature_28    float64\n",
      "feature_29    float64\n",
      "feature_30    float64\n",
      "dtype: object\n"
     ]
    }
   ],
   "source": [
    "print(mldata.shape)\n",
    "print(mldata.dtypes)"
   ]
  },
  {
   "cell_type": "code",
   "execution_count": 6,
   "metadata": {},
   "outputs": [
    {
     "data": {
      "text/html": [
       "<div>\n",
       "<style scoped>\n",
       "    .dataframe tbody tr th:only-of-type {\n",
       "        vertical-align: middle;\n",
       "    }\n",
       "\n",
       "    .dataframe tbody tr th {\n",
       "        vertical-align: top;\n",
       "    }\n",
       "\n",
       "    .dataframe thead th {\n",
       "        text-align: right;\n",
       "    }\n",
       "</style>\n",
       "<table border=\"1\" class=\"dataframe\">\n",
       "  <thead>\n",
       "    <tr style=\"text-align: right;\">\n",
       "      <th></th>\n",
       "      <th>label</th>\n",
       "      <th>feature_1</th>\n",
       "      <th>feature_2</th>\n",
       "      <th>feature_3</th>\n",
       "      <th>feature_4</th>\n",
       "      <th>feature_5</th>\n",
       "      <th>feature_6</th>\n",
       "      <th>feature_7</th>\n",
       "      <th>feature_8</th>\n",
       "      <th>feature_9</th>\n",
       "      <th>...</th>\n",
       "      <th>feature_21</th>\n",
       "      <th>feature_22</th>\n",
       "      <th>feature_23</th>\n",
       "      <th>feature_24</th>\n",
       "      <th>feature_25</th>\n",
       "      <th>feature_26</th>\n",
       "      <th>feature_27</th>\n",
       "      <th>feature_28</th>\n",
       "      <th>feature_29</th>\n",
       "      <th>feature_30</th>\n",
       "    </tr>\n",
       "  </thead>\n",
       "  <tbody>\n",
       "    <tr>\n",
       "      <th>count</th>\n",
       "      <td>1300.000000</td>\n",
       "      <td>1300.000000</td>\n",
       "      <td>1300.000000</td>\n",
       "      <td>1300.000000</td>\n",
       "      <td>1300.000000</td>\n",
       "      <td>1300.000000</td>\n",
       "      <td>1300.000000</td>\n",
       "      <td>1300.000000</td>\n",
       "      <td>1300.000000</td>\n",
       "      <td>1300.000000</td>\n",
       "      <td>...</td>\n",
       "      <td>1300.000000</td>\n",
       "      <td>1300.000000</td>\n",
       "      <td>1300.000000</td>\n",
       "      <td>1300.000000</td>\n",
       "      <td>1300.000000</td>\n",
       "      <td>1300.000000</td>\n",
       "      <td>1300.000000</td>\n",
       "      <td>1300.000000</td>\n",
       "      <td>1300.000000</td>\n",
       "      <td>1300.000000</td>\n",
       "    </tr>\n",
       "    <tr>\n",
       "      <th>mean</th>\n",
       "      <td>1.019231</td>\n",
       "      <td>0.016383</td>\n",
       "      <td>-0.910242</td>\n",
       "      <td>0.098426</td>\n",
       "      <td>-0.268059</td>\n",
       "      <td>0.111999</td>\n",
       "      <td>0.110581</td>\n",
       "      <td>0.086287</td>\n",
       "      <td>0.102229</td>\n",
       "      <td>-0.694271</td>\n",
       "      <td>...</td>\n",
       "      <td>0.010099</td>\n",
       "      <td>0.160262</td>\n",
       "      <td>-0.110821</td>\n",
       "      <td>-1.306656</td>\n",
       "      <td>1.061613</td>\n",
       "      <td>0.141176</td>\n",
       "      <td>-0.033578</td>\n",
       "      <td>0.075441</td>\n",
       "      <td>0.139769</td>\n",
       "      <td>0.142030</td>\n",
       "    </tr>\n",
       "    <tr>\n",
       "      <th>std</th>\n",
       "      <td>0.814854</td>\n",
       "      <td>2.638293</td>\n",
       "      <td>4.875441</td>\n",
       "      <td>0.964461</td>\n",
       "      <td>2.382599</td>\n",
       "      <td>1.007254</td>\n",
       "      <td>0.994790</td>\n",
       "      <td>2.605786</td>\n",
       "      <td>0.977090</td>\n",
       "      <td>5.135847</td>\n",
       "      <td>...</td>\n",
       "      <td>2.414904</td>\n",
       "      <td>2.461001</td>\n",
       "      <td>5.243398</td>\n",
       "      <td>5.491073</td>\n",
       "      <td>2.139932</td>\n",
       "      <td>1.000263</td>\n",
       "      <td>2.530684</td>\n",
       "      <td>1.044799</td>\n",
       "      <td>0.993542</td>\n",
       "      <td>0.972355</td>\n",
       "    </tr>\n",
       "    <tr>\n",
       "      <th>min</th>\n",
       "      <td>0.000000</td>\n",
       "      <td>-8.130306</td>\n",
       "      <td>-18.885011</td>\n",
       "      <td>-3.065327</td>\n",
       "      <td>-7.976611</td>\n",
       "      <td>-3.509091</td>\n",
       "      <td>-3.704852</td>\n",
       "      <td>-8.563885</td>\n",
       "      <td>-3.116328</td>\n",
       "      <td>-15.400620</td>\n",
       "      <td>...</td>\n",
       "      <td>-8.885037</td>\n",
       "      <td>-7.270866</td>\n",
       "      <td>-16.196552</td>\n",
       "      <td>-23.673816</td>\n",
       "      <td>-6.718107</td>\n",
       "      <td>-3.120317</td>\n",
       "      <td>-7.924841</td>\n",
       "      <td>-3.482831</td>\n",
       "      <td>-3.652993</td>\n",
       "      <td>-3.151432</td>\n",
       "    </tr>\n",
       "    <tr>\n",
       "      <th>25%</th>\n",
       "      <td>0.000000</td>\n",
       "      <td>-1.754616</td>\n",
       "      <td>-4.047833</td>\n",
       "      <td>-0.528629</td>\n",
       "      <td>-1.807859</td>\n",
       "      <td>-0.558983</td>\n",
       "      <td>-0.570538</td>\n",
       "      <td>-1.642209</td>\n",
       "      <td>-0.555365</td>\n",
       "      <td>-4.334178</td>\n",
       "      <td>...</td>\n",
       "      <td>-1.643780</td>\n",
       "      <td>-1.557548</td>\n",
       "      <td>-3.671947</td>\n",
       "      <td>-4.672164</td>\n",
       "      <td>-0.354215</td>\n",
       "      <td>-0.585658</td>\n",
       "      <td>-1.697677</td>\n",
       "      <td>-0.617116</td>\n",
       "      <td>-0.523025</td>\n",
       "      <td>-0.515507</td>\n",
       "    </tr>\n",
       "    <tr>\n",
       "      <th>50%</th>\n",
       "      <td>1.000000</td>\n",
       "      <td>-0.029968</td>\n",
       "      <td>-1.166165</td>\n",
       "      <td>0.082804</td>\n",
       "      <td>-0.233850</td>\n",
       "      <td>0.114816</td>\n",
       "      <td>0.131576</td>\n",
       "      <td>0.003105</td>\n",
       "      <td>0.086759</td>\n",
       "      <td>-0.966237</td>\n",
       "      <td>...</td>\n",
       "      <td>-0.039449</td>\n",
       "      <td>0.115109</td>\n",
       "      <td>-0.317008</td>\n",
       "      <td>-1.333866</td>\n",
       "      <td>1.021938</td>\n",
       "      <td>0.174550</td>\n",
       "      <td>-0.078708</td>\n",
       "      <td>0.087760</td>\n",
       "      <td>0.172691</td>\n",
       "      <td>0.095936</td>\n",
       "    </tr>\n",
       "    <tr>\n",
       "      <th>75%</th>\n",
       "      <td>2.000000</td>\n",
       "      <td>1.726266</td>\n",
       "      <td>2.087033</td>\n",
       "      <td>0.770588</td>\n",
       "      <td>1.356230</td>\n",
       "      <td>0.793285</td>\n",
       "      <td>0.778364</td>\n",
       "      <td>1.820131</td>\n",
       "      <td>0.758614</td>\n",
       "      <td>2.646254</td>\n",
       "      <td>...</td>\n",
       "      <td>1.673950</td>\n",
       "      <td>1.833135</td>\n",
       "      <td>3.476770</td>\n",
       "      <td>2.040992</td>\n",
       "      <td>2.542347</td>\n",
       "      <td>0.881370</td>\n",
       "      <td>1.602712</td>\n",
       "      <td>0.746719</td>\n",
       "      <td>0.802409</td>\n",
       "      <td>0.817590</td>\n",
       "    </tr>\n",
       "    <tr>\n",
       "      <th>max</th>\n",
       "      <td>2.000000</td>\n",
       "      <td>8.211538</td>\n",
       "      <td>16.965071</td>\n",
       "      <td>3.175821</td>\n",
       "      <td>7.564920</td>\n",
       "      <td>4.257297</td>\n",
       "      <td>3.715411</td>\n",
       "      <td>7.865857</td>\n",
       "      <td>3.509393</td>\n",
       "      <td>17.448483</td>\n",
       "      <td>...</td>\n",
       "      <td>9.261864</td>\n",
       "      <td>7.468476</td>\n",
       "      <td>17.751934</td>\n",
       "      <td>18.587507</td>\n",
       "      <td>7.659502</td>\n",
       "      <td>3.290550</td>\n",
       "      <td>8.782834</td>\n",
       "      <td>3.386017</td>\n",
       "      <td>3.396125</td>\n",
       "      <td>3.469508</td>\n",
       "    </tr>\n",
       "  </tbody>\n",
       "</table>\n",
       "<p>8 rows × 31 columns</p>\n",
       "</div>"
      ],
      "text/plain": [
       "             label    feature_1    feature_2    feature_3    feature_4  \\\n",
       "count  1300.000000  1300.000000  1300.000000  1300.000000  1300.000000   \n",
       "mean      1.019231     0.016383    -0.910242     0.098426    -0.268059   \n",
       "std       0.814854     2.638293     4.875441     0.964461     2.382599   \n",
       "min       0.000000    -8.130306   -18.885011    -3.065327    -7.976611   \n",
       "25%       0.000000    -1.754616    -4.047833    -0.528629    -1.807859   \n",
       "50%       1.000000    -0.029968    -1.166165     0.082804    -0.233850   \n",
       "75%       2.000000     1.726266     2.087033     0.770588     1.356230   \n",
       "max       2.000000     8.211538    16.965071     3.175821     7.564920   \n",
       "\n",
       "         feature_5    feature_6    feature_7    feature_8    feature_9  ...  \\\n",
       "count  1300.000000  1300.000000  1300.000000  1300.000000  1300.000000  ...   \n",
       "mean      0.111999     0.110581     0.086287     0.102229    -0.694271  ...   \n",
       "std       1.007254     0.994790     2.605786     0.977090     5.135847  ...   \n",
       "min      -3.509091    -3.704852    -8.563885    -3.116328   -15.400620  ...   \n",
       "25%      -0.558983    -0.570538    -1.642209    -0.555365    -4.334178  ...   \n",
       "50%       0.114816     0.131576     0.003105     0.086759    -0.966237  ...   \n",
       "75%       0.793285     0.778364     1.820131     0.758614     2.646254  ...   \n",
       "max       4.257297     3.715411     7.865857     3.509393    17.448483  ...   \n",
       "\n",
       "        feature_21   feature_22   feature_23   feature_24   feature_25  \\\n",
       "count  1300.000000  1300.000000  1300.000000  1300.000000  1300.000000   \n",
       "mean      0.010099     0.160262    -0.110821    -1.306656     1.061613   \n",
       "std       2.414904     2.461001     5.243398     5.491073     2.139932   \n",
       "min      -8.885037    -7.270866   -16.196552   -23.673816    -6.718107   \n",
       "25%      -1.643780    -1.557548    -3.671947    -4.672164    -0.354215   \n",
       "50%      -0.039449     0.115109    -0.317008    -1.333866     1.021938   \n",
       "75%       1.673950     1.833135     3.476770     2.040992     2.542347   \n",
       "max       9.261864     7.468476    17.751934    18.587507     7.659502   \n",
       "\n",
       "        feature_26   feature_27   feature_28   feature_29   feature_30  \n",
       "count  1300.000000  1300.000000  1300.000000  1300.000000  1300.000000  \n",
       "mean      0.141176    -0.033578     0.075441     0.139769     0.142030  \n",
       "std       1.000263     2.530684     1.044799     0.993542     0.972355  \n",
       "min      -3.120317    -7.924841    -3.482831    -3.652993    -3.151432  \n",
       "25%      -0.585658    -1.697677    -0.617116    -0.523025    -0.515507  \n",
       "50%       0.174550    -0.078708     0.087760     0.172691     0.095936  \n",
       "75%       0.881370     1.602712     0.746719     0.802409     0.817590  \n",
       "max       3.290550     8.782834     3.386017     3.396125     3.469508  \n",
       "\n",
       "[8 rows x 31 columns]"
      ]
     },
     "execution_count": 6,
     "metadata": {},
     "output_type": "execute_result"
    }
   ],
   "source": [
    "mldata.describe()"
   ]
  },
  {
   "cell_type": "code",
   "execution_count": 6,
   "metadata": {},
   "outputs": [
    {
     "data": {
      "text/html": [
       "<div>\n",
       "<style scoped>\n",
       "    .dataframe tbody tr th:only-of-type {\n",
       "        vertical-align: middle;\n",
       "    }\n",
       "\n",
       "    .dataframe tbody tr th {\n",
       "        vertical-align: top;\n",
       "    }\n",
       "\n",
       "    .dataframe thead th {\n",
       "        text-align: right;\n",
       "    }\n",
       "</style>\n",
       "<table border=\"1\" class=\"dataframe\">\n",
       "  <thead>\n",
       "    <tr style=\"text-align: right;\">\n",
       "      <th></th>\n",
       "      <th>feature_1</th>\n",
       "      <th>feature_2</th>\n",
       "      <th>feature_3</th>\n",
       "      <th>feature_4</th>\n",
       "      <th>feature_5</th>\n",
       "      <th>feature_6</th>\n",
       "      <th>feature_7</th>\n",
       "      <th>feature_8</th>\n",
       "      <th>feature_9</th>\n",
       "      <th>feature_10</th>\n",
       "      <th>...</th>\n",
       "      <th>feature_21</th>\n",
       "      <th>feature_22</th>\n",
       "      <th>feature_23</th>\n",
       "      <th>feature_24</th>\n",
       "      <th>feature_25</th>\n",
       "      <th>feature_26</th>\n",
       "      <th>feature_27</th>\n",
       "      <th>feature_28</th>\n",
       "      <th>feature_29</th>\n",
       "      <th>feature_30</th>\n",
       "    </tr>\n",
       "    <tr>\n",
       "      <th>label</th>\n",
       "      <th></th>\n",
       "      <th></th>\n",
       "      <th></th>\n",
       "      <th></th>\n",
       "      <th></th>\n",
       "      <th></th>\n",
       "      <th></th>\n",
       "      <th></th>\n",
       "      <th></th>\n",
       "      <th></th>\n",
       "      <th></th>\n",
       "      <th></th>\n",
       "      <th></th>\n",
       "      <th></th>\n",
       "      <th></th>\n",
       "      <th></th>\n",
       "      <th></th>\n",
       "      <th></th>\n",
       "      <th></th>\n",
       "      <th></th>\n",
       "      <th></th>\n",
       "    </tr>\n",
       "  </thead>\n",
       "  <tbody>\n",
       "    <tr>\n",
       "      <th>0</th>\n",
       "      <td>1.100933</td>\n",
       "      <td>-2.260653</td>\n",
       "      <td>0.076240</td>\n",
       "      <td>1.111223</td>\n",
       "      <td>0.061209</td>\n",
       "      <td>0.140924</td>\n",
       "      <td>0.129392</td>\n",
       "      <td>0.142506</td>\n",
       "      <td>0.125555</td>\n",
       "      <td>0.137545</td>\n",
       "      <td>...</td>\n",
       "      <td>0.050207</td>\n",
       "      <td>-0.808609</td>\n",
       "      <td>-1.315772</td>\n",
       "      <td>-3.018429</td>\n",
       "      <td>1.014093</td>\n",
       "      <td>0.107107</td>\n",
       "      <td>-0.101434</td>\n",
       "      <td>0.076253</td>\n",
       "      <td>0.122146</td>\n",
       "      <td>0.198575</td>\n",
       "    </tr>\n",
       "    <tr>\n",
       "      <th>1</th>\n",
       "      <td>-0.997636</td>\n",
       "      <td>-0.145325</td>\n",
       "      <td>0.126712</td>\n",
       "      <td>-0.979853</td>\n",
       "      <td>0.168736</td>\n",
       "      <td>0.089495</td>\n",
       "      <td>0.044840</td>\n",
       "      <td>0.119716</td>\n",
       "      <td>0.331997</td>\n",
       "      <td>0.100429</td>\n",
       "      <td>...</td>\n",
       "      <td>1.023502</td>\n",
       "      <td>1.284693</td>\n",
       "      <td>1.021134</td>\n",
       "      <td>-1.728010</td>\n",
       "      <td>1.125258</td>\n",
       "      <td>0.212771</td>\n",
       "      <td>0.002503</td>\n",
       "      <td>0.038831</td>\n",
       "      <td>0.204501</td>\n",
       "      <td>0.094135</td>\n",
       "    </tr>\n",
       "    <tr>\n",
       "      <th>2</th>\n",
       "      <td>-0.009067</td>\n",
       "      <td>-0.388726</td>\n",
       "      <td>0.091523</td>\n",
       "      <td>-0.869105</td>\n",
       "      <td>0.104086</td>\n",
       "      <td>0.102700</td>\n",
       "      <td>0.086403</td>\n",
       "      <td>0.047007</td>\n",
       "      <td>-2.478022</td>\n",
       "      <td>0.090212</td>\n",
       "      <td>...</td>\n",
       "      <td>-1.025177</td>\n",
       "      <td>-0.032124</td>\n",
       "      <td>-0.087827</td>\n",
       "      <td>0.723444</td>\n",
       "      <td>1.043816</td>\n",
       "      <td>0.102860</td>\n",
       "      <td>-0.005056</td>\n",
       "      <td>0.110706</td>\n",
       "      <td>0.092688</td>\n",
       "      <td>0.135808</td>\n",
       "    </tr>\n",
       "  </tbody>\n",
       "</table>\n",
       "<p>3 rows × 30 columns</p>\n",
       "</div>"
      ],
      "text/plain": [
       "       feature_1  feature_2  feature_3  feature_4  feature_5  feature_6  \\\n",
       "label                                                                     \n",
       "0       1.100933  -2.260653   0.076240   1.111223   0.061209   0.140924   \n",
       "1      -0.997636  -0.145325   0.126712  -0.979853   0.168736   0.089495   \n",
       "2      -0.009067  -0.388726   0.091523  -0.869105   0.104086   0.102700   \n",
       "\n",
       "       feature_7  feature_8  feature_9  feature_10  ...  feature_21  \\\n",
       "label                                               ...               \n",
       "0       0.129392   0.142506   0.125555    0.137545  ...    0.050207   \n",
       "1       0.044840   0.119716   0.331997    0.100429  ...    1.023502   \n",
       "2       0.086403   0.047007  -2.478022    0.090212  ...   -1.025177   \n",
       "\n",
       "       feature_22  feature_23  feature_24  feature_25  feature_26  feature_27  \\\n",
       "label                                                                           \n",
       "0       -0.808609   -1.315772   -3.018429    1.014093    0.107107   -0.101434   \n",
       "1        1.284693    1.021134   -1.728010    1.125258    0.212771    0.002503   \n",
       "2       -0.032124   -0.087827    0.723444    1.043816    0.102860   -0.005056   \n",
       "\n",
       "       feature_28  feature_29  feature_30  \n",
       "label                                      \n",
       "0        0.076253    0.122146    0.198575  \n",
       "1        0.038831    0.204501    0.094135  \n",
       "2        0.110706    0.092688    0.135808  \n",
       "\n",
       "[3 rows x 30 columns]"
      ]
     },
     "execution_count": 6,
     "metadata": {},
     "output_type": "execute_result"
    }
   ],
   "source": [
    "mldata_label = mldata.groupby('label')\n",
    "mldata_label.mean()"
   ]
  },
  {
   "cell_type": "code",
   "execution_count": 7,
   "metadata": {},
   "outputs": [
    {
     "data": {
      "text/plain": [
       "<AxesSubplot:>"
      ]
     },
     "execution_count": 7,
     "metadata": {},
     "output_type": "execute_result"
    },
    {
     "data": {
      "image/png": "[encoded data removed]",
      "text/plain": [
       "<Figure size 720x576 with 2 Axes>"
      ]
     },
     "metadata": {
      "needs_background": "light"
     },
     "output_type": "display_data"
    }
   ],
   "source": [
    "corr = mldata.corr()\n",
    "plt.figure(figsize=(10, 8))\n",
    "sns.heatmap(corr, xticklabels=corr.columns.values, yticklabels=corr.columns.values) "
   ]
  },
  {
   "cell_type": "markdown",
   "metadata": {},
   "source": [
    "According to the heatmap above, the features are not specifically correlated to one another. In this case, then, we can avoid applying PCA that would have been useful to reduce correlation between the features. "
   ]
  },
  {
   "cell_type": "code",
   "execution_count": 8,
   "metadata": {},
   "outputs": [
    {
     "data": {
      "text/plain": [
       "<AxesSubplot:xlabel='label', ylabel='count'>"
      ]
     },
     "execution_count": 8,
     "metadata": {},
     "output_type": "execute_result"
    },
    {
     "data": {
      "image/png": "[encoded data removed]",
      "text/plain": [
       "<Figure size 1008x432 with 1 Axes>"
      ]
     },
     "metadata": {
      "needs_background": "light"
     },
     "output_type": "display_data"
    }
   ],
   "source": [
    "## countplot to visualize the distribution among the three different labels 0,1,2\n",
    "\n",
    "plt.figure(figsize=(14,6))\n",
    "sns.countplot(x='label', data=mldata)"
   ]
  },
  {
   "cell_type": "code",
   "execution_count": 9,
   "metadata": {},
   "outputs": [],
   "source": [
    "## identify input features and target label\n",
    "\n",
    "X = mldata.drop('label', axis=1)\n",
    "y = mldata['label']"
   ]
  },
  {
   "cell_type": "markdown",
   "metadata": {},
   "source": [
    "### Models Training and Evaluation \n",
    "For the training and testing part I followed the subsequent steps:\n",
    "- I trained different models using a train/test procedure with a test size of 20%, with arbitrary hyperparameters;\n",
    "- Then, I used cross validation with k=5 \n",
    "- Finally, I implemented a grid search to tune the different hyperparameters and get the best combination. "
   ]
  },
  {
   "cell_type": "markdown",
   "metadata": {},
   "source": [
    "As per the models, I trained:\n",
    "- K-Nearest neighbors\n",
    "- Logistic Regression\n",
    "- Random Forests"
   ]
  },
  {
   "cell_type": "code",
   "execution_count": 10,
   "metadata": {},
   "outputs": [],
   "source": [
    "## train-test split\n",
    "\n",
    "X_train, X_test, y_train, y_test = train_test_split(X, y, test_size=0.2, random_state=2)"
   ]
  },
  {
   "cell_type": "markdown",
   "metadata": {},
   "source": [
    "As per the preprocessing phase, given that there are neither missing features nor categorical values, I did not implemented either imputers or encoders. \n",
    "I applied a standard scaler, with the goal of standardize all features values and get better models, especially for KNN and Logistic Regression. "
   ]
  },
  {
   "cell_type": "code",
   "execution_count": 11,
   "metadata": {},
   "outputs": [],
   "source": [
    "scaler = StandardScaler()"
   ]
  },
  {
   "cell_type": "code",
   "execution_count": 12,
   "metadata": {},
   "outputs": [],
   "source": [
    "## Definition of some functions:\n",
    "## \t1. plot the confusion matrix after getting predictions\n",
    "## \t2. calculate confusion matrix and normalize it \n",
    "##  3. plot two count plots to visualize differences between true labels and predicted ones\n",
    "\n",
    "def plot_confusion_matrix(cm, model):\n",
    "\tplt.figure(figsize=(10,10))\n",
    "\tsns.heatmap(cm, xticklabels=model.classes_, yticklabels = model.classes_, annot=True, cmap='YlGnBu')\n",
    "\n",
    "\tplt.ylabel('True label')\n",
    "\tplt.xlabel('Predicted label')\n",
    "\tplt.title('Confusion matrix')\n",
    "\tplt.show()\n",
    "\n",
    "def calculate_cm(y, preds):\n",
    "\tcm = confusion_matrix(y, preds)\n",
    "\tcmn = cm/cm.sum(axis=1)\n",
    "\treturn cm, cmn\n",
    "\n",
    "def plot_count_plot(y, preds):\n",
    "\tfig, ax =plt.subplots(1,2, figsize=(12,6))\n",
    "\tsns.countplot(y, ax=ax[0], palette='Set2').set(xlabel='True Labels', ylabel='Count')\n",
    "\tsns.countplot(preds, ax=ax[1], palette='Set2').set(xlabel='Predicted Labels', ylabel='Count')\n",
    "\tplt.show()"
   ]
  },
  {
   "cell_type": "markdown",
   "metadata": {},
   "source": [
    "I used pipelines, with two steps: \n",
    "1. scaler \n",
    "2. model"
   ]
  },
  {
   "cell_type": "markdown",
   "metadata": {},
   "source": [
    "#### 1. K-Nearest Neighbors "
   ]
  },
  {
   "cell_type": "markdown",
   "metadata": {},
   "source": [
    "First, I have trained a KNN with 5 neighbors on the training set, and evaluated predictions based on the test set."
   ]
  },
  {
   "cell_type": "code",
   "execution_count": 13,
   "metadata": {},
   "outputs": [],
   "source": [
    "pipe_knn = Pipeline(steps=[('scaler', scaler), \n",
    "    ('model', KNeighborsClassifier(n_neighbors=5))\n",
    "])\n",
    "\n",
    "pipe_knn.fit(X_train, y_train)\n",
    "preds_knn = pipe_knn.predict(X_test)\n"
   ]
  },
  {
   "cell_type": "markdown",
   "metadata": {},
   "source": [
    "After making predictions, plotting the confusion matrix we get that the model predicted right: \n",
    "- label 0: 84%\n",
    "- label 1: 85%\n",
    "- label 2: 68%\n",
    "\n",
    "with a general accuracy score of 0.7846153846153846. "
   ]
  },
  {
   "cell_type": "code",
   "execution_count": 14,
   "metadata": {},
   "outputs": [
    {
     "data": {
      "image/png": "[encoded data removed]",
      "text/plain": [
       "<Figure size 720x720 with 2 Axes>"
      ]
     },
     "metadata": {
      "needs_background": "light"
     },
     "output_type": "display_data"
    },
    {
     "name": "stdout",
     "output_type": "stream",
     "text": [
      "Mean Squared Error is: 0.4\n",
      "Accuracy score is: 0.7846153846153846\n"
     ]
    }
   ],
   "source": [
    "cm_knn, cmn_knn = calculate_cm(y_test, preds_knn)\n",
    "plot_confusion_matrix(cmn_knn, pipe_knn)\n",
    "print(f'Mean Squared Error is: {mean_squared_error(y_test, preds_knn)}') \n",
    "print(f'Accuracy score is: {accuracy_score(y_test, preds_knn)}')"
   ]
  },
  {
   "cell_type": "code",
   "execution_count": 15,
   "metadata": {},
   "outputs": [
    {
     "data": {
      "text/plain": [
       "0.7913461538461539"
      ]
     },
     "execution_count": 15,
     "metadata": {},
     "output_type": "execute_result"
    }
   ],
   "source": [
    "cross_val_score(pipe_knn, X_train, y_train, cv=5, scoring='accuracy').mean()"
   ]
  },
  {
   "cell_type": "code",
   "execution_count": 16,
   "metadata": {},
   "outputs": [
    {
     "data": {
      "text/plain": [
       "dict_keys(['memory', 'steps', 'verbose', 'scaler', 'model', 'scaler__copy', 'scaler__with_mean', 'scaler__with_std', 'model__algorithm', 'model__leaf_size', 'model__metric', 'model__metric_params', 'model__n_jobs', 'model__n_neighbors', 'model__p', 'model__weights'])"
      ]
     },
     "execution_count": 16,
     "metadata": {},
     "output_type": "execute_result"
    }
   ],
   "source": [
    "pipe_knn.get_params().keys()"
   ]
  },
  {
   "cell_type": "markdown",
   "metadata": {},
   "source": [
    "For the parameters to pass to GridSearcCV, I decided to test 'leaf_size' and 'p'. In particular, for the case of 'p' that represents the parameter for the Minkowski metrics, I evaluated 'p=1' (Manhattan distance) and 'p=2' (euclidean distance). "
   ]
  },
  {
   "cell_type": "code",
   "execution_count": 17,
   "metadata": {},
   "outputs": [],
   "source": [
    "params_knn = {}\n",
    "params_knn['model__leaf_size'] = [30,60]\n",
    "params_knn['model__p'] = [1,2]"
   ]
  },
  {
   "cell_type": "code",
   "execution_count": 18,
   "metadata": {},
   "outputs": [],
   "source": [
    "grid_knn = GridSearchCV( Pipeline(steps=[('scaler', scaler), \n",
    "    ('model', KNeighborsClassifier())]), \n",
    "    param_grid=params_knn, \n",
    "    cv=5, \n",
    "    scoring='accuracy') "
   ]
  },
  {
   "cell_type": "markdown",
   "metadata": {},
   "source": [
    "Again, I trained the model on the training set with a complete new pipeline so that in the prediction step I don't have a model that has already dealt with the testing set. "
   ]
  },
  {
   "cell_type": "code",
   "execution_count": 19,
   "metadata": {},
   "outputs": [
    {
     "data": {
      "text/plain": [
       "GridSearchCV(cv=5,\n",
       "             estimator=Pipeline(steps=[('scaler', StandardScaler()),\n",
       "                                       ('model', KNeighborsClassifier())]),\n",
       "             param_grid={'model__leaf_size': [30, 60], 'model__p': [1, 2]},\n",
       "             scoring='accuracy')"
      ]
     },
     "execution_count": 19,
     "metadata": {},
     "output_type": "execute_result"
    }
   ],
   "source": [
    "grid_knn.fit(X_train, y_train)"
   ]
  },
  {
   "cell_type": "markdown",
   "metadata": {},
   "source": [
    "The following last steps show the best parameters for KNN: \n",
    "- leaf_size = 30\n",
    "- p = 2 (Euclidean distance)\n",
    "\n",
    "The accuracy score considering the testing set is 0.7846153846153846"
   ]
  },
  {
   "cell_type": "code",
   "execution_count": 20,
   "metadata": {},
   "outputs": [
    {
     "data": {
      "text/plain": [
       "{'model__leaf_size': 30, 'model__p': 2}"
      ]
     },
     "execution_count": 20,
     "metadata": {},
     "output_type": "execute_result"
    }
   ],
   "source": [
    "grid_knn.best_params_"
   ]
  },
  {
   "cell_type": "code",
   "execution_count": 21,
   "metadata": {},
   "outputs": [
    {
     "data": {
      "text/plain": [
       "0.7913461538461539"
      ]
     },
     "execution_count": 21,
     "metadata": {},
     "output_type": "execute_result"
    }
   ],
   "source": [
    "grid_knn.best_score_"
   ]
  },
  {
   "cell_type": "code",
   "execution_count": 22,
   "metadata": {},
   "outputs": [
    {
     "data": {
      "text/plain": [
       "0.7846153846153846"
      ]
     },
     "execution_count": 22,
     "metadata": {},
     "output_type": "execute_result"
    }
   ],
   "source": [
    "best_knn = grid_knn.best_estimator_.predict(X_test)\n",
    "accuracy_score(y_test,best_knn)"
   ]
  },
  {
   "cell_type": "markdown",
   "metadata": {},
   "source": [
    "Finally, we can visualize the distribution of the true data against the distribution of the predicted data, through a countplot. "
   ]
  },
  {
   "cell_type": "code",
   "execution_count": 28,
   "metadata": {},
   "outputs": [
    {
     "name": "stderr",
     "output_type": "stream",
     "text": [
      "/Users/susannapaoli/opt/anaconda3/lib/python3.8/site-packages/seaborn/_decorators.py:36: FutureWarning: Pass the following variable as a keyword arg: x. From version 0.12, the only valid positional argument will be `data`, and passing other arguments without an explicit keyword will result in an error or misinterpretation.\n",
      "  warnings.warn(\n",
      "/Users/susannapaoli/opt/anaconda3/lib/python3.8/site-packages/seaborn/_decorators.py:36: FutureWarning: Pass the following variable as a keyword arg: x. From version 0.12, the only valid positional argument will be `data`, and passing other arguments without an explicit keyword will result in an error or misinterpretation.\n",
      "  warnings.warn(\n"
     ]
    },
    {
     "data": {
      "image/png": "[encoded data removed]",
      "text/plain": [
       "<Figure size 864x432 with 2 Axes>"
      ]
     },
     "metadata": {
      "needs_background": "light"
     },
     "output_type": "display_data"
    }
   ],
   "source": [
    "plot_count_plot(y_test, best_knn)"
   ]
  },
  {
   "cell_type": "markdown",
   "metadata": {},
   "source": [
    "#### 2. Logistic Regression"
   ]
  },
  {
   "cell_type": "markdown",
   "metadata": {},
   "source": [
    "As per Logistic Regression, I have first trained a model with an arbitrary parameter of max_iter=100 on the training set. "
   ]
  },
  {
   "cell_type": "code",
   "execution_count": 29,
   "metadata": {},
   "outputs": [
    {
     "data": {
      "text/plain": [
       "Pipeline(steps=[('scaler', StandardScaler()),\n",
       "                ('model', LogisticRegression(random_state=2))])"
      ]
     },
     "execution_count": 29,
     "metadata": {},
     "output_type": "execute_result"
    }
   ],
   "source": [
    "pipe_lr = Pipeline(steps=[('scaler', scaler), \n",
    "    ('model', LogisticRegression(max_iter=100, random_state=2))\n",
    "])\n",
    "\n",
    "pipe_lr.fit(X_train, y_train)"
   ]
  },
  {
   "cell_type": "code",
   "execution_count": 30,
   "metadata": {},
   "outputs": [],
   "source": [
    "preds_lr = pipe_lr.predict(X_test)\n",
    "prob_lr = pipe_lr.predict_proba(X_test)"
   ]
  },
  {
   "cell_type": "markdown",
   "metadata": {},
   "source": [
    "Looking at the confusion matrix, the model predicted in the right way:\n",
    "- label 0: 79%\n",
    "- label 1: 64%\n",
    "- label 2: 72%\n",
    "\n",
    "The total accuracy score is 0.7115384615384616"
   ]
  },
  {
   "cell_type": "code",
   "execution_count": 31,
   "metadata": {},
   "outputs": [
    {
     "data": {
      "image/png": "[encoded data removed]",
      "text/plain": [
       "<Figure size 720x720 with 2 Axes>"
      ]
     },
     "metadata": {
      "needs_background": "light"
     },
     "output_type": "display_data"
    },
    {
     "name": "stdout",
     "output_type": "stream",
     "text": [
      "Mean Squared Error is: 0.46153846153846156\n",
      "Accuracy score is: 0.7115384615384616\n"
     ]
    }
   ],
   "source": [
    "cm_lr, cmn_lr = calculate_cm(y_test, preds_lr)\n",
    "plot_confusion_matrix(cmn_lr, pipe_lr)\n",
    "print(f'Mean Squared Error is: {mean_squared_error(y_test, preds_lr)}')\n",
    "print(f'Accuracy score is: {accuracy_score(y_test, preds_lr)}')"
   ]
  },
  {
   "cell_type": "code",
   "execution_count": 32,
   "metadata": {},
   "outputs": [
    {
     "data": {
      "text/plain": [
       "dict_keys(['memory', 'steps', 'verbose', 'scaler', 'model', 'scaler__copy', 'scaler__with_mean', 'scaler__with_std', 'model__C', 'model__class_weight', 'model__dual', 'model__fit_intercept', 'model__intercept_scaling', 'model__l1_ratio', 'model__max_iter', 'model__multi_class', 'model__n_jobs', 'model__penalty', 'model__random_state', 'model__solver', 'model__tol', 'model__verbose', 'model__warm_start'])"
      ]
     },
     "execution_count": 32,
     "metadata": {},
     "output_type": "execute_result"
    }
   ],
   "source": [
    "pipe_lr.get_params().keys()"
   ]
  },
  {
   "cell_type": "code",
   "execution_count": 33,
   "metadata": {},
   "outputs": [
    {
     "data": {
      "text/plain": [
       "0.7326923076923076"
      ]
     },
     "execution_count": 33,
     "metadata": {},
     "output_type": "execute_result"
    }
   ],
   "source": [
    "cross_val_score(pipe_lr, X_train, y_train, cv=5, scoring='accuracy').mean()"
   ]
  },
  {
   "cell_type": "markdown",
   "metadata": {},
   "source": [
    "For the parameters grid to test through GridSearchCV, I have taken into consideration:\n",
    "- 'penalty', using the Euclidean Distance\n",
    "- 'C', which represents the inverse of the regularization parameter\n",
    "- 'solver', whose choice was somehow forced based on the 'penalty' parameter as, looking at the documentation, specific solvers go with specific penalty measures\n",
    "- 'max_iter', to limit the iterations used in the solver algorithm, in this case I tested 4 different cases. \n"
   ]
  },
  {
   "cell_type": "code",
   "execution_count": 34,
   "metadata": {},
   "outputs": [],
   "source": [
    "params_lr = {}\n",
    "params_lr['model__C'] = np.linspace(1e-3, 1e3, num=20)\n",
    "params_lr['model__penalty'] = ['l2']\n",
    "params_lr['model__solver'] = ['lbfgs', 'saga']\n",
    "params_lr['model__max_iter'] = np.linspace(start=50, stop=200, num=4)"
   ]
  },
  {
   "cell_type": "code",
   "execution_count": 35,
   "metadata": {},
   "outputs": [],
   "source": [
    "grid_lr = GridSearchCV(Pipeline(steps=[('scaler', scaler), \n",
    "    ('model', LogisticRegression(random_state=2))]), \n",
    "    param_grid=params_lr, \n",
    "    cv=5, \n",
    "    scoring='accuracy')"
   ]
  },
  {
   "cell_type": "code",
   "execution_count": 36,
   "metadata": {},
   "outputs": [
    {
     "data": {
      "text/plain": [
       "GridSearchCV(cv=5,\n",
       "             estimator=Pipeline(steps=[('scaler', StandardScaler()),\n",
       "                                       ('model',\n",
       "                                        LogisticRegression(random_state=2))]),\n",
       "             param_grid={'model__C': array([1.00000000e-03, 5.26325263e+01, 1.05264053e+02, 1.57895579e+02,\n",
       "       2.10527105e+02, 2.63158632e+02, 3.15790158e+02, 3.68421684e+02,\n",
       "       4.21053211e+02, 4.73684737e+02, 5.26316263e+02, 5.78947789e+02,\n",
       "       6.31579316e+02, 6.84210842e+02, 7.36842368e+02, 7.89473895e+02,\n",
       "       8.42105421e+02, 8.94736947e+02, 9.47368474e+02, 1.00000000e+03]),\n",
       "                         'model__max_iter': array([ 50., 100., 150., 200.]),\n",
       "                         'model__penalty': ['l2'],\n",
       "                         'model__solver': ['lbfgs', 'saga']},\n",
       "             scoring='accuracy')"
      ]
     },
     "execution_count": 36,
     "metadata": {},
     "output_type": "execute_result"
    }
   ],
   "source": [
    "grid_lr.fit(X_train, y_train)"
   ]
  },
  {
   "cell_type": "markdown",
   "metadata": {},
   "source": [
    "After training the model on the training set, I got the subsequent results:\n",
    "- best hyperparameters, among the ones tested, are:\n",
    "    - 'solver': lbfgs\n",
    "    - 'penalty': l2\n",
    "    - 'max_iter': 50\n",
    "    \n",
    "After making some predictions using the test set, we get an accuracy score of 0.7115384615384616. "
   ]
  },
  {
   "cell_type": "code",
   "execution_count": 37,
   "metadata": {},
   "outputs": [
    {
     "data": {
      "text/plain": [
       "{'model__C': 52.63252631578947,\n",
       " 'model__max_iter': 50.0,\n",
       " 'model__penalty': 'l2',\n",
       " 'model__solver': 'lbfgs'}"
      ]
     },
     "execution_count": 37,
     "metadata": {},
     "output_type": "execute_result"
    }
   ],
   "source": [
    "grid_lr.best_params_"
   ]
  },
  {
   "cell_type": "code",
   "execution_count": 38,
   "metadata": {},
   "outputs": [
    {
     "data": {
      "text/plain": [
       "0.7317307692307692"
      ]
     },
     "execution_count": 38,
     "metadata": {},
     "output_type": "execute_result"
    }
   ],
   "source": [
    "grid_lr.best_score_"
   ]
  },
  {
   "cell_type": "code",
   "execution_count": 36,
   "metadata": {},
   "outputs": [
    {
     "data": {
      "text/plain": [
       "0.7115384615384616"
      ]
     },
     "execution_count": 36,
     "metadata": {},
     "output_type": "execute_result"
    }
   ],
   "source": [
    "best_lr = grid_lr.best_estimator_.predict(X_test)\n",
    "accuracy_score(y_test, best_lr)"
   ]
  },
  {
   "cell_type": "code",
   "execution_count": 37,
   "metadata": {},
   "outputs": [
    {
     "name": "stderr",
     "output_type": "stream",
     "text": [
      "/Users/susannapaoli/opt/anaconda3/lib/python3.8/site-packages/seaborn/_decorators.py:36: FutureWarning: Pass the following variable as a keyword arg: x. From version 0.12, the only valid positional argument will be `data`, and passing other arguments without an explicit keyword will result in an error or misinterpretation.\n",
      "  warnings.warn(\n",
      "/Users/susannapaoli/opt/anaconda3/lib/python3.8/site-packages/seaborn/_decorators.py:36: FutureWarning: Pass the following variable as a keyword arg: x. From version 0.12, the only valid positional argument will be `data`, and passing other arguments without an explicit keyword will result in an error or misinterpretation.\n",
      "  warnings.warn(\n"
     ]
    },
    {
     "data": {
      "image/png": "[encoded data removed]",
      "text/plain": [
       "<Figure size 864x432 with 2 Axes>"
      ]
     },
     "metadata": {
      "needs_background": "light"
     },
     "output_type": "display_data"
    }
   ],
   "source": [
    "plot_count_plot(y_test, best_lr)"
   ]
  },
  {
   "cell_type": "markdown",
   "metadata": {},
   "source": [
    "#### 3. Random Forest"
   ]
  },
  {
   "cell_type": "markdown",
   "metadata": {},
   "source": [
    "For the RandomForestClassifier, I trained a model with an arbitrary number of estimators equal to 500. Subsequently, using GridSearchCV, I tested different values for this hyperparameter. "
   ]
  },
  {
   "cell_type": "code",
   "execution_count": 38,
   "metadata": {},
   "outputs": [
    {
     "data": {
      "text/plain": [
       "Pipeline(steps=[('scaler', StandardScaler()),\n",
       "                ('model',\n",
       "                 RandomForestClassifier(n_estimators=500, random_state=2))])"
      ]
     },
     "execution_count": 38,
     "metadata": {},
     "output_type": "execute_result"
    }
   ],
   "source": [
    "pipe_rf = Pipeline(steps=[('scaler', scaler), \n",
    "    ('model', RandomForestClassifier(n_estimators=500, random_state=2))\n",
    "])\n",
    "\n",
    "pipe_rf.fit(X_train, y_train)"
   ]
  },
  {
   "cell_type": "code",
   "execution_count": 39,
   "metadata": {},
   "outputs": [],
   "source": [
    "preds_rf = pipe_rf.predict(X_test)\n",
    "prob_rf = pipe_rf.predict_proba(X_test)"
   ]
  },
  {
   "cell_type": "markdown",
   "metadata": {},
   "source": [
    "In this case, looking at the confusion matrix we have that the model predicted in the right way:\n",
    "- label 0: 88%\n",
    "- label 1: 77%\n",
    "- label 2: 81%\n",
    "\n",
    "The total accuracy score is 0.8192307692307692"
   ]
  },
  {
   "cell_type": "code",
   "execution_count": 40,
   "metadata": {},
   "outputs": [
    {
     "data": {
      "image/png": "[encoded data removed]",
      "text/plain": [
       "<Figure size 720x720 with 2 Axes>"
      ]
     },
     "metadata": {
      "needs_background": "light"
     },
     "output_type": "display_data"
    },
    {
     "name": "stdout",
     "output_type": "stream",
     "text": [
      "Mean Squared Error is: 0.3076923076923077\n",
      "Accuracy score is: 0.8192307692307692\n"
     ]
    }
   ],
   "source": [
    "cm_rf, cmn_rf = calculate_cm(y_test, preds_rf)\n",
    "plot_confusion_matrix(cmn_rf, pipe_rf)\n",
    "print(f'Mean Squared Error is: {mean_squared_error(y_test, preds_rf)}')\n",
    "print(f'Accuracy score is: {accuracy_score(y_test, preds_rf)}')"
   ]
  },
  {
   "cell_type": "code",
   "execution_count": 41,
   "metadata": {},
   "outputs": [
    {
     "data": {
      "text/plain": [
       "0.8182692307692309"
      ]
     },
     "execution_count": 41,
     "metadata": {},
     "output_type": "execute_result"
    }
   ],
   "source": [
    "cross_val_score(pipe_rf, X_train, y_train, cv=5, scoring='accuracy').mean()"
   ]
  },
  {
   "cell_type": "code",
   "execution_count": 42,
   "metadata": {},
   "outputs": [
    {
     "data": {
      "text/plain": [
       "dict_keys(['memory', 'steps', 'verbose', 'scaler', 'model', 'scaler__copy', 'scaler__with_mean', 'scaler__with_std', 'model__bootstrap', 'model__ccp_alpha', 'model__class_weight', 'model__criterion', 'model__max_depth', 'model__max_features', 'model__max_leaf_nodes', 'model__max_samples', 'model__min_impurity_decrease', 'model__min_impurity_split', 'model__min_samples_leaf', 'model__min_samples_split', 'model__min_weight_fraction_leaf', 'model__n_estimators', 'model__n_jobs', 'model__oob_score', 'model__random_state', 'model__verbose', 'model__warm_start'])"
      ]
     },
     "execution_count": 42,
     "metadata": {},
     "output_type": "execute_result"
    }
   ],
   "source": [
    "pipe_rf.get_params().keys()"
   ]
  },
  {
   "cell_type": "markdown",
   "metadata": {},
   "source": [
    "For the parameter grid to test with random forests, I decided to change the number of estimators, testing 10 different values in the range (10,500), and whether or not to use bootstrap, to sample from different subsets of the dataset when building the trees. "
   ]
  },
  {
   "cell_type": "code",
   "execution_count": 43,
   "metadata": {},
   "outputs": [],
   "source": [
    "params_rf = {'model__n_estimators': [int(x) for x in np.linspace(start = 10, stop = 500, num = 10)],\n",
    "               'model__bootstrap': [True, False], \n",
    "            }"
   ]
  },
  {
   "cell_type": "code",
   "execution_count": 44,
   "metadata": {},
   "outputs": [],
   "source": [
    "grid_rf = GridSearchCV(Pipeline(steps=[('scaler', scaler), \n",
    "    ('model', RandomForestClassifier(random_state=2))]), \n",
    "    param_grid = params_rf, \n",
    "    cv = 5,\n",
    "    scoring='accuracy')"
   ]
  },
  {
   "cell_type": "code",
   "execution_count": 45,
   "metadata": {},
   "outputs": [
    {
     "data": {
      "text/plain": [
       "GridSearchCV(cv=5,\n",
       "             estimator=Pipeline(steps=[('scaler', StandardScaler()),\n",
       "                                       ('model',\n",
       "                                        RandomForestClassifier(random_state=2))]),\n",
       "             param_grid={'model__bootstrap': [True, False],\n",
       "                         'model__n_estimators': [10, 64, 118, 173, 227, 282,\n",
       "                                                 336, 391, 445, 500]},\n",
       "             scoring='accuracy')"
      ]
     },
     "execution_count": 45,
     "metadata": {},
     "output_type": "execute_result"
    }
   ],
   "source": [
    "grid_rf.fit(X_train, y_train)"
   ]
  },
  {
   "cell_type": "markdown",
   "metadata": {},
   "source": [
    "After fitting the model, according to the best number of estimators is 500, without using bootstrap. \n",
    "The accuracy of the model using the test set with the found parameters is 0.823076923076923, which is the highest among the trained models. "
   ]
  },
  {
   "cell_type": "code",
   "execution_count": 46,
   "metadata": {},
   "outputs": [
    {
     "data": {
      "text/plain": [
       "{'model__bootstrap': False, 'model__n_estimators': 500}"
      ]
     },
     "execution_count": 46,
     "metadata": {},
     "output_type": "execute_result"
    }
   ],
   "source": [
    "grid_rf.best_params_"
   ]
  },
  {
   "cell_type": "code",
   "execution_count": 47,
   "metadata": {},
   "outputs": [
    {
     "data": {
      "text/plain": [
       "0.8278846153846153"
      ]
     },
     "execution_count": 47,
     "metadata": {},
     "output_type": "execute_result"
    }
   ],
   "source": [
    "grid_rf.best_score_"
   ]
  },
  {
   "cell_type": "code",
   "execution_count": 48,
   "metadata": {},
   "outputs": [
    {
     "data": {
      "text/plain": [
       "0.823076923076923"
      ]
     },
     "execution_count": 48,
     "metadata": {},
     "output_type": "execute_result"
    }
   ],
   "source": [
    "best_rf = grid_rf.best_estimator_.predict(X_test)\n",
    "accuracy_score(y_test, best_rf)"
   ]
  },
  {
   "cell_type": "code",
   "execution_count": 49,
   "metadata": {},
   "outputs": [
    {
     "name": "stderr",
     "output_type": "stream",
     "text": [
      "/Users/susannapaoli/opt/anaconda3/lib/python3.8/site-packages/seaborn/_decorators.py:36: FutureWarning: Pass the following variable as a keyword arg: x. From version 0.12, the only valid positional argument will be `data`, and passing other arguments without an explicit keyword will result in an error or misinterpretation.\n",
      "  warnings.warn(\n",
      "/Users/susannapaoli/opt/anaconda3/lib/python3.8/site-packages/seaborn/_decorators.py:36: FutureWarning: Pass the following variable as a keyword arg: x. From version 0.12, the only valid positional argument will be `data`, and passing other arguments without an explicit keyword will result in an error or misinterpretation.\n",
      "  warnings.warn(\n"
     ]
    },
    {
     "data": {
      "image/png": "[encoded data removed]",
      "text/plain": [
       "<Figure size 864x432 with 2 Axes>"
      ]
     },
     "metadata": {
      "needs_background": "light"
     },
     "output_type": "display_data"
    }
   ],
   "source": [
    "plot_count_plot(y_test, best_rf)"
   ]
  },
  {
   "cell_type": "markdown",
   "metadata": {},
   "source": [
    "### Best Model\n",
    "After the analysis, the best model among the ones trained and tested is RandomForestClassifier with the following parameters:"
   ]
  },
  {
   "cell_type": "code",
   "execution_count": 50,
   "metadata": {},
   "outputs": [
    {
     "data": {
      "text/plain": [
       "RandomForestClassifier(bootstrap=False, n_estimators=500, random_state=2)"
      ]
     },
     "execution_count": 50,
     "metadata": {},
     "output_type": "execute_result"
    }
   ],
   "source": [
    "best_model = RandomForestClassifier(n_estimators=500, bootstrap=False, random_state=2)\n",
    "best_model.fit(X_train, y_train)"
   ]
  },
  {
   "cell_type": "code",
   "execution_count": 51,
   "metadata": {},
   "outputs": [
    {
     "data": {
      "text/plain": [
       "0.823076923076923"
      ]
     },
     "execution_count": 51,
     "metadata": {},
     "output_type": "execute_result"
    }
   ],
   "source": [
    "accuracy_score(y_test, best_model.predict(X_test))"
   ]
  }
 ],
 "metadata": {
  "interpreter": {
   "hash": "4804801bb66c2378bb2b0c54ee6a11ed224596c9e4c2489431064a0e5bb2c35b"
  },
  "kernelspec": {
   "display_name": "Python 3.8.5 ('base')",
   "language": "python",
   "name": "python3"
  },
  "language_info": {
   "codemirror_mode": {
    "name": "ipython",
    "version": 3
   },
   "file_extension": ".py",
   "mimetype": "text/x-python",
   "name": "python",
   "nbconvert_exporter": "python",
   "pygments_lexer": "ipython3",
   "version": "3.8.5"
  },
  "orig_nbformat": 4
 },
 "nbformat": 4,
 "nbformat_minor": 2
}
